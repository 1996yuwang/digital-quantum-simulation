{
 "cells": [
  {
   "cell_type": "code",
   "execution_count": 1,
   "id": "c51f6966",
   "metadata": {},
   "outputs": [],
   "source": [
    "\"\"\" Calculation of dynamical properties using the Lanczos method: \n",
    "Spectral function A(k,w) of the fermionic tV model \"\"\"\n",
    "\n",
    "import pylab as pl\n",
    "import numpy as np\n",
    "import scipy.sparse as sparse\n",
    "import scipy.sparse.linalg.eigen.arpack as arp\n",
    "\n",
    "def c_operators(L):\n",
    "    \"\"\" Returns the fermionic annihilation operators c\"\"\"\n",
    "    sp = sparse.csr_matrix(np.array([[0.,1.],[0.,0.]]))\n",
    "    sz = sparse.csr_matrix(np.array([[1.,0.],[0.,-1.]]))\n",
    "    \n",
    "    c_list = []\n",
    "    for i_site in range(L):\n",
    "        if i_site==0:\n",
    "            X=sp\n",
    "        else:            \n",
    "            X=sz\n",
    "        for j_site in range(1,L): \n",
    "            if i_site==j_site:\n",
    "                X=sparse.kron(X,sp, 'csr')\n",
    "            else:\n",
    "                if j_site < i_site:\n",
    "                    X=sparse.kron(X, sz, 'csr')\n",
    "                else:\n",
    "                    X=sparse.kron(X, sparse.csr_matrix(np.eye(2)), 'csr')\n",
    "        \n",
    "        c_list.append(X)\n",
    "    return c_list\n",
    "\n",
    "def gen_hamiltonian(c_list,L): \n",
    "    \"\"\"\" Generates the Hamiltonian \"\"\"    \n",
    "    H_t = sparse.csr_matrix((2**L,2**L))\n",
    "    H_V = sparse.csr_matrix((2**L,2**L))   \n",
    "    \n",
    "    t = np.ones(L); t[-1] = -1\n",
    "    for i in range(L):\n",
    "        H_t = H_t + t[i]*(c_list[i].T*c_list[np.mod(i+1,L)] + (c_list[i].T*c_list[np.mod(i+1,L)]).T)\n",
    "        H_V = H_V + c_list[i].T*c_list[i]*c_list[np.mod(i+1,L)].T*c_list[np.mod(i+1,L)]\n",
    "        \n",
    "    return H_t,H_V\n",
    "    \n",
    "\n"
   ]
  },
  {
   "cell_type": "code",
   "execution_count": 2,
   "id": "22d22f1f",
   "metadata": {},
   "outputs": [
    {
     "name": "stdout",
     "output_type": "stream",
     "text": [
      "[[0.        ]\n",
      " [0.        ]\n",
      " [0.        ]\n",
      " [0.        ]\n",
      " [0.        ]\n",
      " [0.        ]\n",
      " [0.        ]\n",
      " [0.        ]\n",
      " [0.        ]\n",
      " [0.        ]\n",
      " [0.        ]\n",
      " [0.35355339]\n",
      " [0.        ]\n",
      " [0.5       ]\n",
      " [0.35355339]\n",
      " [0.        ]]\n",
      "\n",
      "\n",
      "[[ 0.00000000e+00]\n",
      " [ 0.00000000e+00]\n",
      " [ 0.00000000e+00]\n",
      " [ 0.00000000e+00]\n",
      " [ 0.00000000e+00]\n",
      " [ 0.00000000e+00]\n",
      " [ 0.00000000e+00]\n",
      " [-1.11022302e-16]\n",
      " [ 0.00000000e+00]\n",
      " [ 0.00000000e+00]\n",
      " [ 0.00000000e+00]\n",
      " [-5.00000000e-01]\n",
      " [ 0.00000000e+00]\n",
      " [-7.07106781e-01]\n",
      " [-5.00000000e-01]\n",
      " [ 0.00000000e+00]]\n",
      "-2.8284271247461907\n"
     ]
    }
   ],
   "source": [
    "if __name__ == \"__main__\": \n",
    "    # Set parameters here\n",
    "    L = 4 \n",
    "    V = 0\n",
    "    \n",
    "    # Get ground state\n",
    "    c_list = c_operators(L)\n",
    "    H_t, H_V = gen_hamiltonian(c_list,L)\n",
    "    \n",
    "    H = -H_t + V*H_V\n",
    "    E0,v = arp.eigsh(H,k=1,which='SA')\n",
    "    E0 = E0.item()\n",
    "    \n",
    "    v[np.abs(v)<1e-10] = 0.\n",
    "    v1=c_list[0].T*v\n",
    "    print(v1)\n",
    "    print(\"\\n\")\n",
    "    print(H*v1/np.linalg.norm(H*v1))\n",
    "    print(E0)"
   ]
  },
  {
   "cell_type": "markdown",
   "id": "40acb46d",
   "metadata": {},
   "source": [
    "Normorlize v1 also, we can find v1 and H*v1 is the same"
   ]
  },
  {
   "cell_type": "code",
   "execution_count": 4,
   "id": "1c148ab2",
   "metadata": {},
   "outputs": [
    {
     "name": "stdout",
     "output_type": "stream",
     "text": [
      "[[-0.        ]\n",
      " [-0.        ]\n",
      " [-0.        ]\n",
      " [-0.        ]\n",
      " [-0.        ]\n",
      " [-0.        ]\n",
      " [-0.        ]\n",
      " [-0.        ]\n",
      " [-0.        ]\n",
      " [-0.        ]\n",
      " [-0.        ]\n",
      " [-0.5       ]\n",
      " [-0.        ]\n",
      " [-0.70710678]\n",
      " [-0.5       ]\n",
      " [-0.        ]]\n"
     ]
    }
   ],
   "source": [
    "print(-v1/np.linalg.norm(v1))"
   ]
  },
  {
   "cell_type": "markdown",
   "id": "6ae2f952",
   "metadata": {},
   "source": [
    "Compare v1 and H*v1 (after normalization), the result is 0:"
   ]
  },
  {
   "cell_type": "code",
   "execution_count": 10,
   "id": "641404bb",
   "metadata": {},
   "outputs": [
    {
     "name": "stdout",
     "output_type": "stream",
     "text": [
      "[[-0.00000000e+00]\n",
      " [-0.00000000e+00]\n",
      " [-0.00000000e+00]\n",
      " [-0.00000000e+00]\n",
      " [-0.00000000e+00]\n",
      " [-0.00000000e+00]\n",
      " [-0.00000000e+00]\n",
      " [ 1.11022302e-16]\n",
      " [-0.00000000e+00]\n",
      " [-0.00000000e+00]\n",
      " [-0.00000000e+00]\n",
      " [-2.22044605e-16]\n",
      " [-0.00000000e+00]\n",
      " [ 1.11022302e-16]\n",
      " [-1.11022302e-16]\n",
      " [-0.00000000e+00]]\n"
     ]
    }
   ],
   "source": [
    "print(-v1/np.linalg.norm(v1) - H*v1)"
   ]
  },
  {
   "cell_type": "code",
   "execution_count": null,
   "id": "0c627a70",
   "metadata": {},
   "outputs": [],
   "source": []
  },
  {
   "cell_type": "code",
   "execution_count": null,
   "id": "d8f6462d",
   "metadata": {},
   "outputs": [],
   "source": []
  }
 ],
 "metadata": {
  "kernelspec": {
   "display_name": "Python 3 (ipykernel)",
   "language": "python",
   "name": "python3"
  },
  "language_info": {
   "codemirror_mode": {
    "name": "ipython",
    "version": 3
   },
   "file_extension": ".py",
   "mimetype": "text/x-python",
   "name": "python",
   "nbconvert_exporter": "python",
   "pygments_lexer": "ipython3",
   "version": "3.9.12"
  }
 },
 "nbformat": 4,
 "nbformat_minor": 5
}
