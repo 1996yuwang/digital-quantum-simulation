{
 "cells": [
  {
   "cell_type": "markdown",
   "metadata": {},
   "source": [
    "# Quad"
   ]
  },
  {
   "cell_type": "code",
   "execution_count": 1,
   "metadata": {},
   "outputs": [],
   "source": [
    "import numpy as np\n",
    "from fermi_sim import *\n",
    "from scipy import sparse\n",
    "import scipy.sparse.linalg as spla\n",
    "import matplotlib.pyplot as plt"
   ]
  },
  {
   "cell_type": "markdown",
   "metadata": {},
   "source": [
    "Def a Hamiltonian: $$H = \\sum\\limits_{i<j} c_i\\dagger c_j + c_j\\dagger c_i$$ \n"
   ]
  },
  {
   "cell_type": "code",
   "execution_count": 2,
   "metadata": {},
   "outputs": [],
   "source": [
    "#The Hamiltonian of the four site on the center (bulk) when the coupling inside the unit cells is 0.\n",
    "def Quadrat(k):\n",
    "    \n",
    "    H = sparse.csr_matrix((2**4, 2**4), dtype=float)\n",
    "    \n",
    "    H += create_op(4,1).dot(annihil_op(4,2))\n",
    "    H += create_op(4,2).dot(annihil_op(4,1))\n",
    "    \n",
    "    H += create_op(4,2).dot(annihil_op(4,2**3))\n",
    "    H += create_op(4,2**3).dot(annihil_op(4,2))\n",
    "    \n",
    "    H += create_op(4,1).dot(annihil_op(4,2**2))\n",
    "    H += create_op(4,2**2).dot(annihil_op(4,1))\n",
    "    \n",
    "    H += -create_op(4,2**3).dot(annihil_op(4,2**2))\n",
    "    H += -create_op(4,2**2).dot(annihil_op(4,2**3))\n",
    "    \n",
    "    return H "
   ]
  },
  {
   "cell_type": "markdown",
   "metadata": {},
   "source": []
  },
  {
   "cell_type": "code",
   "execution_count": 3,
   "metadata": {},
   "outputs": [],
   "source": [
    "H_Quad = Quadrat(0)"
   ]
  },
  {
   "cell_type": "code",
   "execution_count": 4,
   "metadata": {},
   "outputs": [],
   "source": [
    "E, v = np.linalg.eigh(H_Quad.toarray())"
   ]
  },
  {
   "cell_type": "code",
   "execution_count": 5,
   "metadata": {},
   "outputs": [
    {
     "name": "stdout",
     "output_type": "stream",
     "text": [
      "[-2.82842712e+00 -1.41421356e+00 -1.41421356e+00 -1.41421356e+00\n",
      " -1.41421356e+00 -1.19285394e-17 -2.71050543e-20  0.00000000e+00\n",
      "  0.00000000e+00  1.73386916e-17  1.41518581e-16  1.41421356e+00\n",
      "  1.41421356e+00  1.41421356e+00  1.41421356e+00  2.82842712e+00]\n"
     ]
    }
   ],
   "source": [
    "print(E)"
   ]
  },
  {
   "cell_type": "code",
   "execution_count": 6,
   "metadata": {},
   "outputs": [],
   "source": [
    "num_op1 = number_op(4, 1)\n",
    "num_op2 = number_op(4, 2)\n",
    "num_op3 = number_op(4, 4)\n",
    "num_op4 = number_op(4, 8)"
   ]
  },
  {
   "cell_type": "code",
   "execution_count": 13,
   "metadata": {},
   "outputs": [],
   "source": [
    "v_test = v[:,0]\n",
    "v_test = create_op(4,1).dot(v_test)\n",
    "v_test /= np.linalg.norm(v_test)"
   ]
  },
  {
   "cell_type": "code",
   "execution_count": 16,
   "metadata": {},
   "outputs": [
    {
     "data": {
      "text/plain": [
       "1.0"
      ]
     },
     "execution_count": 16,
     "metadata": {},
     "output_type": "execute_result"
    }
   ],
   "source": [
    "np.vdot(v_test, num_op1.dot(v_test))"
   ]
  },
  {
   "cell_type": "code",
   "execution_count": 17,
   "metadata": {},
   "outputs": [
    {
     "data": {
      "text/plain": [
       "0.7499999999999998"
      ]
     },
     "execution_count": 17,
     "metadata": {},
     "output_type": "execute_result"
    }
   ],
   "source": [
    "np.vdot(v_test, num_op2.dot(v_test))"
   ]
  },
  {
   "cell_type": "code",
   "execution_count": 18,
   "metadata": {},
   "outputs": [
    {
     "data": {
      "text/plain": [
       "0.7499999999999998"
      ]
     },
     "execution_count": 18,
     "metadata": {},
     "output_type": "execute_result"
    }
   ],
   "source": [
    "np.vdot(v_test, num_op3.dot(v_test))"
   ]
  },
  {
   "cell_type": "code",
   "execution_count": 19,
   "metadata": {},
   "outputs": [
    {
     "data": {
      "text/plain": [
       "0.5000000000000004"
      ]
     },
     "execution_count": 19,
     "metadata": {},
     "output_type": "execute_result"
    }
   ],
   "source": [
    "np.vdot(v_test, num_op4.dot(v_test))"
   ]
  },
  {
   "cell_type": "code",
   "execution_count": 20,
   "metadata": {},
   "outputs": [
    {
     "data": {
      "text/plain": [
       "-1.4142135623730951"
      ]
     },
     "execution_count": 20,
     "metadata": {},
     "output_type": "execute_result"
    }
   ],
   "source": [
    "np.vdot(v_test, H_Quad.dot(v_test))"
   ]
  },
  {
   "cell_type": "code",
   "execution_count": 14,
   "metadata": {},
   "outputs": [],
   "source": [
    "def quench(H, v, dτ, nsteps, numeroprator):\n",
    "    \n",
    "    v /= np.linalg.norm(v)\n",
    "    \n",
    "    num_traj = np.zeros(nsteps)\n",
    "    num_traj[0] = np.vdot(v,  numeroprator.dot(v)).real\n",
    "    for n in range(1, nsteps):\n",
    "        v = spla.expm_multiply(-(1j)*(dτ)*H, v)\n",
    "        #v /= np.linalg.norm(v)\n",
    "        num_traj[n] = np.vdot((v),  numeroprator.dot(v)).real\n",
    "        \n",
    "    plt.plot(dτ*np.arange(nsteps), num_traj)\n",
    "    #plt.plot(dτ*np.arange(nsteps), num_traj1)\n",
    "    plt.show()"
   ]
  },
  {
   "cell_type": "code",
   "execution_count": 15,
   "metadata": {
    "scrolled": false
   },
   "outputs": [
    {
     "data": {
      "image/png": "[encoded data removed]",
      "text/plain": [
       "<Figure size 432x288 with 1 Axes>"
      ]
     },
     "metadata": {
      "needs_background": "light"
     },
     "output_type": "display_data"
    }
   ],
   "source": [
    "quench(H_Quad, v_test, 0.1, 101, num_op1)"
   ]
  },
  {
   "cell_type": "code",
   "execution_count": 31,
   "metadata": {},
   "outputs": [
    {
     "data": {
      "text/plain": [
       "8.3820000221454525e-16"
      ]
     },
     "execution_count": 31,
     "metadata": {},
     "output_type": "execute_result"
    }
   ],
   "source": [
    "np.linalg.norm(v_test + H_Quad.dot(v_test)/np.linalg.norm(H_Quad.dot(v_test)))\n",
    "# Cdagger .dot |ground> is eigenstate."
   ]
  },
  {
   "cell_type": "code",
   "execution_count": null,
   "metadata": {},
   "outputs": [],
   "source": []
  },
  {
   "cell_type": "code",
   "execution_count": null,
   "metadata": {},
   "outputs": [],
   "source": []
  },
  {
   "cell_type": "code",
   "execution_count": 30,
   "metadata": {},
   "outputs": [
    {
     "data": {
      "text/plain": [
       "8.3820000221454525e-16"
      ]
     },
     "execution_count": 30,
     "metadata": {},
     "output_type": "execute_result"
    }
   ],
   "source": [
    "v_test1 = v[:,0]\n",
    "v_test1 = create_op(4,8).dot(v_test1)\n",
    "v_test1 /= np.linalg.norm(v_test1)\n",
    "np.linalg.norm(v_test1 + H_Quad.dot(v_test1)/np.linalg.norm(H_Quad.dot(v_test1)))"
   ]
  },
  {
   "cell_type": "code",
   "execution_count": null,
   "metadata": {},
   "outputs": [],
   "source": []
  },
  {
   "cell_type": "code",
   "execution_count": null,
   "metadata": {},
   "outputs": [],
   "source": []
  },
  {
   "cell_type": "code",
   "execution_count": null,
   "metadata": {},
   "outputs": [],
   "source": []
  },
  {
   "cell_type": "code",
   "execution_count": null,
   "metadata": {},
   "outputs": [],
   "source": []
  },
  {
   "cell_type": "code",
   "execution_count": null,
   "metadata": {},
   "outputs": [],
   "source": []
  },
  {
   "cell_type": "code",
   "execution_count": null,
   "metadata": {},
   "outputs": [],
   "source": []
  },
  {
   "cell_type": "code",
   "execution_count": 6,
   "metadata": {},
   "outputs": [
    {
     "data": {
      "text/plain": [
       "3.059023205018258e-07"
      ]
     },
     "execution_count": 6,
     "metadata": {},
     "output_type": "execute_result"
    }
   ],
   "source": [
    "np.exp(-15)"
   ]
  },
  {
   "cell_type": "code",
   "execution_count": 43,
   "metadata": {},
   "outputs": [
    {
     "data": {
      "text/plain": [
       "0.0019304541362277093"
      ]
     },
     "execution_count": 43,
     "metadata": {},
     "output_type": "execute_result"
    }
   ],
   "source": [
    "np.exp(-0.1*2000/32)"
   ]
  },
  {
   "cell_type": "code",
   "execution_count": 27,
   "metadata": {},
   "outputs": [
    {
     "data": {
      "text/plain": [
       "0.0019304541362277093"
      ]
     },
     "execution_count": 27,
     "metadata": {},
     "output_type": "execute_result"
    }
   ],
   "source": [
    "np.exp(-1000*0.1/16)"
   ]
  },
  {
   "cell_type": "code",
   "execution_count": 28,
   "metadata": {},
   "outputs": [
    {
     "data": {
      "text/plain": [
       "0.006737946999085467"
      ]
     },
     "execution_count": 28,
     "metadata": {},
     "output_type": "execute_result"
    }
   ],
   "source": [
    "np.exp(-0.1*1000/20)"
   ]
  },
  {
   "cell_type": "code",
   "execution_count": 14,
   "metadata": {},
   "outputs": [],
   "source": [
    "s = np.zeros(3001)\n",
    "for i in range(1,3001):\n",
    "    s[i] = np.exp(-i*0.1/20)"
   ]
  },
  {
   "cell_type": "code",
   "execution_count": 17,
   "metadata": {},
   "outputs": [
    {
     "name": "stdout",
     "output_type": "stream",
     "text": [
      "4.5399929762484854e-05\n",
      "4.517349666814366e-05\n",
      "4.494819291357196e-05\n",
      "4.472401286616424e-05\n",
      "4.4500950921407545e-05\n",
      "4.427900150274157e-05\n",
      "4.405815906141936e-05\n",
      "4.383841807636846e-05\n",
      "4.361977305405265e-05\n",
      "4.3402218528335126e-05\n",
      "4.3185749060341275e-05\n",
      "4.297035923832319e-05\n",
      "4.275604367752418e-05\n",
      "4.254279702004391e-05\n",
      "4.233061393470499e-05\n",
      "4.2119489116919155e-05\n",
      "4.190941728855483e-05\n",
      "4.170039319780564e-05\n",
      "4.14924116190583e-05\n",
      "4.128546735276242e-05\n",
      "4.1079555225300724e-05\n",
      "4.0874670088859145e-05\n",
      "4.0670806821298684e-05\n",
      "4.04679603260271e-05\n",
      "4.02661255318713e-05\n",
      "4.006529739295107e-05\n",
      "3.9865470888552325e-05\n",
      "3.966664102300212e-05\n",
      "3.9468802825543534e-05\n",
      "3.927195135021125e-05\n",
      "3.907608167570808e-05\n",
      "3.888118890528201e-05\n",
      "3.86872681666037e-05\n",
      "3.8494314611644456e-05\n",
      "3.8302323416555486e-05\n",
      "3.8111289781546776e-05\n",
      "3.792120893076757e-05\n",
      "3.773207611218676e-05\n",
      "3.754388659747391e-05\n",
      "3.735663568188146e-05\n",
      "3.7170318684126734e-05\n",
      "3.6984930946274927e-05\n",
      "3.680046783362321e-05\n",
      "3.661692473458402e-05\n",
      "3.643429706057027e-05\n",
      "3.625258024588072e-05\n",
      "3.607176974758541e-05\n",
      "3.589186104541252e-05\n",
      "3.571284964163521e-05\n",
      "3.553473106095892e-05\n"
     ]
    }
   ],
   "source": [
    "for i in range (2000,2050):\n",
    "    print(s[i])"
   ]
  },
  {
   "cell_type": "code",
   "execution_count": 18,
   "metadata": {},
   "outputs": [
    {
     "data": {
      "text/plain": [
       "1.7811858067629492e-07"
      ]
     },
     "execution_count": 18,
     "metadata": {},
     "output_type": "execute_result"
    }
   ],
   "source": [
    "3.571284964163521e-05 - 3.553473106095892e-05"
   ]
  },
  {
   "cell_type": "code",
   "execution_count": 19,
   "metadata": {},
   "outputs": [
    {
     "data": {
      "text/plain": [
       "0.0002"
      ]
     },
     "execution_count": 19,
     "metadata": {},
     "output_type": "execute_result"
    }
   ],
   "source": [
    "1/5000"
   ]
  },
  {
   "cell_type": "code",
   "execution_count": 30,
   "metadata": {},
   "outputs": [],
   "source": [
    "from Hamiltonian_topo import *"
   ]
  },
  {
   "cell_type": "code",
   "execution_count": 33,
   "metadata": {},
   "outputs": [
    {
     "data": {
      "text/plain": [
       "(array([-34.14213562]),\n",
       " array([[-6.82392044e-19],\n",
       "        [-2.60804301e-18],\n",
       "        [ 3.41543640e-18],\n",
       "        ...,\n",
       "        [ 7.92282244e-19],\n",
       "        [ 2.82174987e-18],\n",
       "        [-1.30437041e-18]]))"
      ]
     },
     "execution_count": 33,
     "metadata": {},
     "output_type": "execute_result"
    }
   ],
   "source": [
    "sparse.linalg.eigsh(H_Quad_topo((2,2),0,5), which = 'SA', k =1)"
   ]
  },
  {
   "cell_type": "code",
   "execution_count": 36,
   "metadata": {},
   "outputs": [
    {
     "data": {
      "text/plain": [
       "(array([-35.88779774, -35.67618565, -35.63078743, -35.60209954,\n",
       "        -35.55637142, -35.41917534, -35.39048745, -35.34508923,\n",
       "        -35.34475933]),\n",
       " array([[-3.14844798e-05,  5.66783552e-18, -5.86918193e-18, ...,\n",
       "          9.70132560e-05,  7.51995851e-18,  2.89346455e-17],\n",
       "        [-8.72224870e-18,  6.57225847e-06,  1.97676659e-05, ...,\n",
       "         -8.57120688e-19, -7.29000114e-19, -1.74537494e-18],\n",
       "        [-2.09027138e-17,  2.75488256e-04, -2.49506556e-06, ...,\n",
       "         -9.23722263e-18, -1.00748856e-18, -2.30753067e-19],\n",
       "        ...,\n",
       "        [ 1.32084823e-17, -2.75488256e-04, -2.49506556e-06, ...,\n",
       "          9.12839488e-18, -9.71993944e-19,  9.40301523e-18],\n",
       "        [ 2.78994255e-18, -6.57225847e-06,  1.97676659e-05, ...,\n",
       "         -2.29302551e-18,  4.68724901e-20, -1.15669741e-18],\n",
       "        [-3.14844798e-05,  3.89479160e-18, -6.09829551e-18, ...,\n",
       "          9.70132560e-05,  1.18609494e-17,  3.81842453e-17]]))"
      ]
     },
     "execution_count": 36,
     "metadata": {},
     "output_type": "execute_result"
    }
   ],
   "source": [
    "sparse.linalg.eigsh(H_Quad_topo((2,2),0,5)+ sup_normal((2,2)), which = 'SA', k =9)"
   ]
  },
  {
   "cell_type": "code",
   "execution_count": 37,
   "metadata": {},
   "outputs": [
    {
     "data": {
      "text/plain": [
       "-0.2116120900000027"
      ]
     },
     "execution_count": 37,
     "metadata": {},
     "output_type": "execute_result"
    }
   ],
   "source": [
    "-35.88779774 - -35.67618565"
   ]
  },
  {
   "cell_type": "code",
   "execution_count": null,
   "metadata": {},
   "outputs": [],
   "source": []
  },
  {
   "cell_type": "code",
   "execution_count": 46,
   "metadata": {},
   "outputs": [
    {
     "data": {
      "text/plain": [
       "0.9980019986673331"
      ]
     },
     "execution_count": 46,
     "metadata": {},
     "output_type": "execute_result"
    }
   ],
   "source": [
    "np.exp(-0.1/50)"
   ]
  },
  {
   "cell_type": "code",
   "execution_count": 48,
   "metadata": {},
   "outputs": [
    {
     "data": {
      "text/plain": [
       "4.5399929762484854e-05"
      ]
     },
     "execution_count": 48,
     "metadata": {},
     "output_type": "execute_result"
    }
   ],
   "source": [
    "np.exp(-0.1*5000/50)"
   ]
  },
  {
   "cell_type": "code",
   "execution_count": null,
   "metadata": {},
   "outputs": [],
   "source": []
  }
 ],
 "metadata": {
  "kernelspec": {
   "display_name": "Python 3 (ipykernel)",
   "language": "python",
   "name": "python3"
  },
  "language_info": {
   "codemirror_mode": {
    "name": "ipython",
    "version": 3
   },
   "file_extension": ".py",
   "mimetype": "text/x-python",
   "name": "python",
   "nbconvert_exporter": "python",
   "pygments_lexer": "ipython3",
   "version": "3.9.12"
  }
 },
 "nbformat": 4,
 "nbformat_minor": 4
}
